{
 "cells": [
  {
   "cell_type": "code",
   "execution_count": 37,
   "metadata": {},
   "outputs": [],
   "source": [
    "import pandas as pd\n",
    "import numpy as np"
   ]
  },
  {
   "cell_type": "code",
   "execution_count": 38,
   "metadata": {},
   "outputs": [
    {
     "name": "stdout",
     "output_type": "stream",
     "text": [
      "<bound method DataFrame.info of                  timestamp   cnt   t1   t2    hum  wind_speed  weather_code  \\\n",
      "0      2015-01-04 00:00:00   182  3.0  2.0   93.0         6.0           3.0   \n",
      "1      2015-01-04 01:00:00   138  3.0  2.5   93.0         5.0           1.0   \n",
      "2      2015-01-04 02:00:00   134  2.5  2.5   96.5         0.0           1.0   \n",
      "3      2015-01-04 03:00:00    72  2.0  2.0  100.0         0.0           1.0   \n",
      "4      2015-01-04 04:00:00    47  2.0  0.0   93.0         6.5           1.0   \n",
      "...                    ...   ...  ...  ...    ...         ...           ...   \n",
      "17409  2017-01-03 19:00:00  1042  5.0  1.0   81.0        19.0           3.0   \n",
      "17410  2017-01-03 20:00:00   541  5.0  1.0   81.0        21.0           4.0   \n",
      "17411  2017-01-03 21:00:00   337  5.5  1.5   78.5        24.0           4.0   \n",
      "17412  2017-01-03 22:00:00   224  5.5  1.5   76.0        23.0           4.0   \n",
      "17413  2017-01-03 23:00:00   139  5.0  1.0   76.0        22.0           2.0   \n",
      "\n",
      "       is_holiday  is_weekend  season  \n",
      "0             0.0         1.0     3.0  \n",
      "1             0.0         1.0     3.0  \n",
      "2             0.0         1.0     3.0  \n",
      "3             0.0         1.0     3.0  \n",
      "4             0.0         1.0     3.0  \n",
      "...           ...         ...     ...  \n",
      "17409         0.0         0.0     3.0  \n",
      "17410         0.0         0.0     3.0  \n",
      "17411         0.0         0.0     3.0  \n",
      "17412         0.0         0.0     3.0  \n",
      "17413         0.0         0.0     3.0  \n",
      "\n",
      "[17414 rows x 10 columns]>\n"
     ]
    }
   ],
   "source": [
    "# The dataset that is going to be used in this study is taken from a public dataset available on Kaggle.\n",
    "\n",
    "# Link: https://www.kaggle.com/datasets/hmavrodiev/london-bike-sharing-dataset/data\n",
    "\n",
    "# Path to dataset \n",
    "file_path = 'C:/Users/sarah/OneDrive/Documents/CV Projects/london_bIke_sharing_dataset/london_merged.csv'\n",
    "\n",
    "bikes = pd.read_csv(file_path)\n",
    "\n",
    "print(bikes.info)"
   ]
  },
  {
   "cell_type": "code",
   "execution_count": 39,
   "metadata": {},
   "outputs": [
    {
     "name": "stdout",
     "output_type": "stream",
     "text": [
      "1.0     6150\n",
      "2.0     4034\n",
      "3.0     3551\n",
      "7.0     2141\n",
      "4.0     1464\n",
      "26.0      60\n",
      "10.0      14\n",
      "Name: weather_code, dtype: int64\n",
      "0.0    4394\n",
      "1.0    4387\n",
      "3.0    4330\n",
      "2.0    4303\n",
      "Name: season, dtype: int64\n"
     ]
    }
   ],
   "source": [
    "# Count the unique values in the weather code column\n",
    "print(bikes.weather_code.value_counts())\n",
    "# Count the unique vales in the season column\n",
    "print(bikes.season.value_counts())"
   ]
  },
  {
   "cell_type": "code",
   "execution_count": 40,
   "metadata": {},
   "outputs": [],
   "source": [
    "# Dictoriary with new column names\n",
    "new_cols_dict ={\n",
    "    'timestamp':'time',\n",
    "    'cnt':'count',\n",
    "    't1':'temp_real_C',\n",
    "    't2':'temp_feels_C',\n",
    "    'hum':'humidity_percent',\n",
    "    'wind_speed':'wind_speed_kph',\n",
    "    'weather_code':'weather',\n",
    "    'is_holiday':'is_holiday',\n",
    "    'is_weekend':'is_weekend',\n",
    "    'season':'season'\n",
    "}\n",
    "\n",
    "# Renaming the columns to new column names\n",
    "bikes.rename(new_cols_dict,axis=1,inplace=True)"
   ]
  },
  {
   "cell_type": "code",
   "execution_count": 41,
   "metadata": {},
   "outputs": [],
   "source": [
    "# Chnaging humitidy to a percentage \n",
    "bikes.humidity_percent = bikes.humidity_percent/100"
   ]
  },
  {
   "cell_type": "code",
   "execution_count": 42,
   "metadata": {},
   "outputs": [],
   "source": [
    "# Season dictionary to map integers to written seasons \n",
    "season_dict = {\n",
    "    '0.0':'Spring',\n",
    "    '1.0':'Summer',\n",
    "    '2.0':'Autum',\n",
    "    '3.0':'Winter'\n",
    "}\n",
    "\n",
    "# Mapping season values\n",
    "bikes.season = bikes.season.astype('str')\n",
    "bikes.season = bikes.season.map(season_dict)\n",
    "\n",
    "# Weather dictionary to map the integers to written weather\n",
    "weather_dict = {\n",
    "    '1.0':'Clear',\n",
    "    '2.0':'Scattered clouds',\n",
    "    '3.0':'Brocken clouds',\n",
    "    '4.0':'Cloudy',\n",
    "    '7.0':'Rain',\n",
    "    '10.0':'Thunderstorm',\n",
    "    '26.0':'Snow'\n",
    "}\n",
    "\n",
    "# Mapping weather values\n",
    "bikes.weather = bikes.weather.astype('str')\n",
    "bikes.weather = bikes.weather.map(weather_dict)"
   ]
  },
  {
   "cell_type": "code",
   "execution_count": 43,
   "metadata": {},
   "outputs": [
    {
     "data": {
      "text/html": [
       "<div>\n",
       "<style scoped>\n",
       "    .dataframe tbody tr th:only-of-type {\n",
       "        vertical-align: middle;\n",
       "    }\n",
       "\n",
       "    .dataframe tbody tr th {\n",
       "        vertical-align: top;\n",
       "    }\n",
       "\n",
       "    .dataframe thead th {\n",
       "        text-align: right;\n",
       "    }\n",
       "</style>\n",
       "<table border=\"1\" class=\"dataframe\">\n",
       "  <thead>\n",
       "    <tr style=\"text-align: right;\">\n",
       "      <th></th>\n",
       "      <th>time</th>\n",
       "      <th>count</th>\n",
       "      <th>temp_real_C</th>\n",
       "      <th>temp_feels_C</th>\n",
       "      <th>humidity_percent</th>\n",
       "      <th>wind_speed_kph</th>\n",
       "      <th>weather</th>\n",
       "      <th>is_holiday</th>\n",
       "      <th>is_weekend</th>\n",
       "      <th>season</th>\n",
       "    </tr>\n",
       "  </thead>\n",
       "  <tbody>\n",
       "    <tr>\n",
       "      <th>0</th>\n",
       "      <td>2015-01-04 00:00:00</td>\n",
       "      <td>182</td>\n",
       "      <td>3.0</td>\n",
       "      <td>2.0</td>\n",
       "      <td>0.930</td>\n",
       "      <td>6.0</td>\n",
       "      <td>Brocken clouds</td>\n",
       "      <td>0.0</td>\n",
       "      <td>1.0</td>\n",
       "      <td>Winter</td>\n",
       "    </tr>\n",
       "    <tr>\n",
       "      <th>1</th>\n",
       "      <td>2015-01-04 01:00:00</td>\n",
       "      <td>138</td>\n",
       "      <td>3.0</td>\n",
       "      <td>2.5</td>\n",
       "      <td>0.930</td>\n",
       "      <td>5.0</td>\n",
       "      <td>Clear</td>\n",
       "      <td>0.0</td>\n",
       "      <td>1.0</td>\n",
       "      <td>Winter</td>\n",
       "    </tr>\n",
       "    <tr>\n",
       "      <th>2</th>\n",
       "      <td>2015-01-04 02:00:00</td>\n",
       "      <td>134</td>\n",
       "      <td>2.5</td>\n",
       "      <td>2.5</td>\n",
       "      <td>0.965</td>\n",
       "      <td>0.0</td>\n",
       "      <td>Clear</td>\n",
       "      <td>0.0</td>\n",
       "      <td>1.0</td>\n",
       "      <td>Winter</td>\n",
       "    </tr>\n",
       "    <tr>\n",
       "      <th>3</th>\n",
       "      <td>2015-01-04 03:00:00</td>\n",
       "      <td>72</td>\n",
       "      <td>2.0</td>\n",
       "      <td>2.0</td>\n",
       "      <td>1.000</td>\n",
       "      <td>0.0</td>\n",
       "      <td>Clear</td>\n",
       "      <td>0.0</td>\n",
       "      <td>1.0</td>\n",
       "      <td>Winter</td>\n",
       "    </tr>\n",
       "    <tr>\n",
       "      <th>4</th>\n",
       "      <td>2015-01-04 04:00:00</td>\n",
       "      <td>47</td>\n",
       "      <td>2.0</td>\n",
       "      <td>0.0</td>\n",
       "      <td>0.930</td>\n",
       "      <td>6.5</td>\n",
       "      <td>Clear</td>\n",
       "      <td>0.0</td>\n",
       "      <td>1.0</td>\n",
       "      <td>Winter</td>\n",
       "    </tr>\n",
       "  </tbody>\n",
       "</table>\n",
       "</div>"
      ],
      "text/plain": [
       "                  time  count  temp_real_C  temp_feels_C  humidity_percent  \\\n",
       "0  2015-01-04 00:00:00    182          3.0           2.0             0.930   \n",
       "1  2015-01-04 01:00:00    138          3.0           2.5             0.930   \n",
       "2  2015-01-04 02:00:00    134          2.5           2.5             0.965   \n",
       "3  2015-01-04 03:00:00     72          2.0           2.0             1.000   \n",
       "4  2015-01-04 04:00:00     47          2.0           0.0             0.930   \n",
       "\n",
       "   wind_speed_kph         weather  is_holiday  is_weekend  season  \n",
       "0             6.0  Brocken clouds         0.0         1.0  Winter  \n",
       "1             5.0           Clear         0.0         1.0  Winter  \n",
       "2             0.0           Clear         0.0         1.0  Winter  \n",
       "3             0.0           Clear         0.0         1.0  Winter  \n",
       "4             6.5           Clear         0.0         1.0  Winter  "
      ]
     },
     "execution_count": 43,
     "metadata": {},
     "output_type": "execute_result"
    }
   ],
   "source": [
    "bikes.head()"
   ]
  },
  {
   "cell_type": "code",
   "execution_count": 44,
   "metadata": {},
   "outputs": [],
   "source": [
    "# Writting excel file with data for Tableau visualisation\n",
    "bikes.to_excel('london_bikes_data.xlsx', sheet_name = 'Data')"
   ]
  }
 ],
 "metadata": {
  "kernelspec": {
   "display_name": "Python 3",
   "language": "python",
   "name": "python3"
  },
  "language_info": {
   "codemirror_mode": {
    "name": "ipython",
    "version": 3
   },
   "file_extension": ".py",
   "mimetype": "text/x-python",
   "name": "python",
   "nbconvert_exporter": "python",
   "pygments_lexer": "ipython3",
   "version": "3.10.6"
  }
 },
 "nbformat": 4,
 "nbformat_minor": 2
}
